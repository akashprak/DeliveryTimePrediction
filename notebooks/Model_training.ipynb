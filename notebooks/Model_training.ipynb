{
 "cells": [
  {
   "cell_type": "code",
   "execution_count": 1,
   "metadata": {},
   "outputs": [],
   "source": [
    "from sklearn.impute import SimpleImputer\n",
    "from sklearn.preprocessing import StandardScaler\n",
    "from sklearn.pipeline import Pipeline\n",
    "from sklearn.compose import ColumnTransformer\n",
    "from sklearn.linear_model import LinearRegression,Lasso,Ridge,ElasticNet\n",
    "from sklearn.metrics import r2_score,mean_absolute_error,mean_squared_error\n",
    "from sklearn.model_selection import train_test_split\n",
    "from sklearn.preprocessing import TargetEncoder,FunctionTransformer"
   ]
  },
  {
   "cell_type": "code",
   "execution_count": 2,
   "metadata": {},
   "outputs": [],
   "source": [
    "import pandas as pd\n",
    "import numpy as np"
   ]
  },
  {
   "cell_type": "code",
   "execution_count": 3,
   "metadata": {},
   "outputs": [],
   "source": [
    "df = pd.read_csv('../data/cleaned_dataset.csv')"
   ]
  },
  {
   "cell_type": "code",
   "execution_count": 4,
   "metadata": {},
   "outputs": [],
   "source": [
    "# target feature and redundant features to be dropped \n",
    "\n",
    "target_feature = 'Time_taken (min)'\n",
    "drop_features = ['ID', 'Time_Orderd', 'Order_Date', 'Type_of_order', target_feature]"
   ]
  },
  {
   "cell_type": "code",
   "execution_count": 5,
   "metadata": {},
   "outputs": [],
   "source": [
    "numerical_columns = ['Delivery_person_Age', 'Delivery_person_Ratings', \n",
    "                     \"Restaurant_latitude\", \"Restaurant_longitude\", \"Delivery_location_latitude\", \"Delivery_location_longitude\", 'Time_Order_picked']\n",
    "categorical_columns = ['Weather_conditions', 'Road_traffic_density', 'Vehicle_condition', 'Type_of_vehicle', 'multiple_deliveries',\t'Festival', 'City']"
   ]
  },
  {
   "cell_type": "code",
   "execution_count": 6,
   "metadata": {},
   "outputs": [],
   "source": [
    "Weather_conditions_map={'Fog':3,'Cloudy':3,'Stormy':2,'Sandstorms':2,'Windy':2,'Sunny':1}\n",
    "Road_traffic_density_map={'Jam':4, 'High':3, 'Medium':2, 'Low':1}\n",
    "Type_of_vehicle_map={'motorcycle':2, 'bicycle':2, 'scooter':1, 'electric_scooter':1}\n",
    "Festival_map={'Yes':1, 'No':0}\n",
    "City_map={'Semi-Urban':3, 'Metropolitian':2, 'Urban':1}"
   ]
  },
  {
   "cell_type": "code",
   "execution_count": 7,
   "metadata": {},
   "outputs": [],
   "source": [
    "from geopy.distance import geodesic"
   ]
  },
  {
   "cell_type": "code",
   "execution_count": 8,
   "metadata": {},
   "outputs": [],
   "source": [
    "def timeDist_transform(df: pd.DataFrame):\n",
    "    \"\"\"function to convert coordinates to distance in kilometres\"\"\"\n",
    "\n",
    "    def geo(sample):\n",
    "        if sample.notnull().all():\n",
    "            return geodesic(\n",
    "                    (sample[\"Restaurant_latitude\"], sample[\"Restaurant_longitude\"]), \n",
    "                    (sample[\"Delivery_location_latitude\"], sample[\"Delivery_location_longitude\"])).km\n",
    "        else:\n",
    "            return np.nan    # passing as NaN if any coordinate is null\n",
    "\n",
    "    df[\"Distance\"] = df.apply(geo, axis=1) \n",
    "    df = df.drop(columns=[\"Restaurant_latitude\", \"Restaurant_longitude\", \"Delivery_location_latitude\", \"Delivery_location_longitude\"])\n",
    "    df['Time_Order_picked'] = pd.to_datetime(df['Time_Order_picked'], errors='coerce', format='%H:%M').dt.hour\n",
    "    return df\n",
    "\n",
    "def add_dist(self, feature_names):\n",
    "    coordinates = [\"Restaurant_latitude\", \"Restaurant_longitude\", \n",
    "                   \"Delivery_location_latitude\", \"Delivery_location_longitude\"]\n",
    "    features  = [i for i in feature_names if i not in coordinates]\n",
    "    features.append('Distance')\n",
    "    return features"
   ]
  },
  {
   "cell_type": "code",
   "execution_count": 9,
   "metadata": {},
   "outputs": [],
   "source": [
    "def mapper(df :pd.DataFrame):\n",
    "    '''mapping function for the categorical columns'''\n",
    "\n",
    "    df['Weather_conditions'] = df['Weather_conditions'].map(Weather_conditions_map)\n",
    "    df['Road_traffic_density'] = df['Road_traffic_density'].map(Road_traffic_density_map)\n",
    "    df['Type_of_vehicle'] = df['Type_of_vehicle'].map(Type_of_vehicle_map)\n",
    "    df['Festival'] = df['Festival'].map(Festival_map)\n",
    "    df['City'] = df['City'].map(City_map)\n",
    "    return df"
   ]
  },
  {
   "cell_type": "code",
   "execution_count": 10,
   "metadata": {},
   "outputs": [],
   "source": [
    "# Delivery person ID pipeline\n",
    "id_pipeline = Pipeline(\n",
    "    steps=[\n",
    "        ('target_encoder_id', TargetEncoder(target_type='continuous')),\n",
    "        ('imputer', SimpleImputer(strategy='mean')),\n",
    "        ('scaler', StandardScaler())\n",
    "    ]\n",
    ")\n",
    "\n",
    "# Numerical pipeline\n",
    "numerical_pipeline = Pipeline(\n",
    "    steps=[\n",
    "        ('time_distance', FunctionTransformer(timeDist_transform, feature_names_out=add_dist)),\n",
    "        ('imputer', SimpleImputer(strategy='median')),\n",
    "        ('scaler', StandardScaler())\n",
    "    ]\n",
    ")\n",
    "\n",
    "# categorical pipeline\n",
    "categorical_pipeline = Pipeline(\n",
    "    steps=[\n",
    "        ('mapper', FunctionTransformer(mapper, feature_names_out='one-to-one')),\n",
    "        ('imputer', SimpleImputer(strategy='most_frequent')),\n",
    "        ('scaler', StandardScaler())\n",
    "    ]\n",
    ")\n",
    "\n",
    "preprocessor = ColumnTransformer([\n",
    "    ('id', id_pipeline, ['Delivery_person_ID']),\n",
    "    ('num_pipe', numerical_pipeline, numerical_columns),\n",
    "    ('cat_pipe', categorical_pipeline, categorical_columns)\n",
    "])"
   ]
  },
  {
   "cell_type": "code",
   "execution_count": 11,
   "metadata": {},
   "outputs": [],
   "source": [
    "# train test split\n",
    "train_df, test_df = train_test_split(df, test_size=0.30, random_state=3)"
   ]
  },
  {
   "cell_type": "code",
   "execution_count": 12,
   "metadata": {},
   "outputs": [],
   "source": [
    "X_train = train_df.drop(columns=drop_features)\n",
    "y_train = train_df[target_feature]\n",
    "\n",
    "X_test = test_df.drop(columns=drop_features)\n",
    "y_test = test_df[target_feature]"
   ]
  },
  {
   "cell_type": "code",
   "execution_count": 13,
   "metadata": {},
   "outputs": [],
   "source": [
    "Weather_conditions_map={'Fog':3,'Cloudy':3,'Stormy':2,'Sandstorms':2,'Windy':2,'Sunny':1}\n",
    "Road_traffic_density_map={'Jam':4, 'High':3, 'Medium':2, 'Low':1}\n",
    "Type_of_vehicle_map={'motorcycle':2, 'bicycle':2, 'scooter':1, 'electric_scooter':1}\n",
    "Festival_map={'Yes':1, 'No':0}\n",
    "City_map={'Semi-Urban':3, 'Metropolitian':2, 'Urban':1}"
   ]
  },
  {
   "cell_type": "code",
   "execution_count": 14,
   "metadata": {},
   "outputs": [],
   "source": [
    "X_train = pd.DataFrame(preprocessor.fit_transform(X_train, y=y_train), columns=preprocessor.get_feature_names_out())\n",
    "X_test = pd.DataFrame(preprocessor.transform(X_test), columns=preprocessor.get_feature_names_out())"
   ]
  },
  {
   "cell_type": "code",
   "execution_count": 15,
   "metadata": {},
   "outputs": [
    {
     "data": {
      "text/html": [
       "<div>\n",
       "<style scoped>\n",
       "    .dataframe tbody tr th:only-of-type {\n",
       "        vertical-align: middle;\n",
       "    }\n",
       "\n",
       "    .dataframe tbody tr th {\n",
       "        vertical-align: top;\n",
       "    }\n",
       "\n",
       "    .dataframe thead th {\n",
       "        text-align: right;\n",
       "    }\n",
       "</style>\n",
       "<table border=\"1\" class=\"dataframe\">\n",
       "  <thead>\n",
       "    <tr style=\"text-align: right;\">\n",
       "      <th></th>\n",
       "      <th>id__Delivery_person_ID</th>\n",
       "      <th>num_pipe__Delivery_person_Age</th>\n",
       "      <th>num_pipe__Delivery_person_Ratings</th>\n",
       "      <th>num_pipe__Time_Order_picked</th>\n",
       "      <th>num_pipe__Distance</th>\n",
       "      <th>cat_pipe__Weather_conditions</th>\n",
       "      <th>cat_pipe__Road_traffic_density</th>\n",
       "      <th>cat_pipe__Vehicle_condition</th>\n",
       "      <th>cat_pipe__Type_of_vehicle</th>\n",
       "      <th>cat_pipe__multiple_deliveries</th>\n",
       "      <th>cat_pipe__Festival</th>\n",
       "      <th>cat_pipe__City</th>\n",
       "    </tr>\n",
       "  </thead>\n",
       "  <tbody>\n",
       "    <tr>\n",
       "      <th>0</th>\n",
       "      <td>0.090174</td>\n",
       "      <td>-0.453229</td>\n",
       "      <td>0.855546</td>\n",
       "      <td>0.986695</td>\n",
       "      <td>0.489118</td>\n",
       "      <td>-0.258872</td>\n",
       "      <td>-1.095892</td>\n",
       "      <td>-1.225324</td>\n",
       "      <td>0.851462</td>\n",
       "      <td>-1.330184</td>\n",
       "      <td>-0.141143</td>\n",
       "      <td>-1.858024</td>\n",
       "    </tr>\n",
       "    <tr>\n",
       "      <th>1</th>\n",
       "      <td>-1.943181</td>\n",
       "      <td>-0.099473</td>\n",
       "      <td>1.180473</td>\n",
       "      <td>1.220803</td>\n",
       "      <td>1.912910</td>\n",
       "      <td>-0.258872</td>\n",
       "      <td>-1.095892</td>\n",
       "      <td>-0.030284</td>\n",
       "      <td>0.851462</td>\n",
       "      <td>0.442337</td>\n",
       "      <td>-0.141143</td>\n",
       "      <td>-1.858024</td>\n",
       "    </tr>\n",
       "    <tr>\n",
       "      <th>2</th>\n",
       "      <td>-1.958540</td>\n",
       "      <td>0.077405</td>\n",
       "      <td>-0.119237</td>\n",
       "      <td>-1.822603</td>\n",
       "      <td>-1.219380</td>\n",
       "      <td>1.212181</td>\n",
       "      <td>-1.095892</td>\n",
       "      <td>-0.030284</td>\n",
       "      <td>0.851462</td>\n",
       "      <td>0.442337</td>\n",
       "      <td>-0.141143</td>\n",
       "      <td>0.514611</td>\n",
       "    </tr>\n",
       "    <tr>\n",
       "      <th>3</th>\n",
       "      <td>0.869204</td>\n",
       "      <td>0.784917</td>\n",
       "      <td>0.855546</td>\n",
       "      <td>0.284370</td>\n",
       "      <td>0.774445</td>\n",
       "      <td>1.212181</td>\n",
       "      <td>1.307984</td>\n",
       "      <td>-1.225324</td>\n",
       "      <td>0.851462</td>\n",
       "      <td>2.214859</td>\n",
       "      <td>-0.141143</td>\n",
       "      <td>0.514611</td>\n",
       "    </tr>\n",
       "    <tr>\n",
       "      <th>4</th>\n",
       "      <td>0.014167</td>\n",
       "      <td>0.961795</td>\n",
       "      <td>0.530618</td>\n",
       "      <td>0.986695</td>\n",
       "      <td>0.774379</td>\n",
       "      <td>-0.258872</td>\n",
       "      <td>-1.095892</td>\n",
       "      <td>-0.030284</td>\n",
       "      <td>-1.174450</td>\n",
       "      <td>0.442337</td>\n",
       "      <td>-0.141143</td>\n",
       "      <td>0.514611</td>\n",
       "    </tr>\n",
       "  </tbody>\n",
       "</table>\n",
       "</div>"
      ],
      "text/plain": [
       "   id__Delivery_person_ID  num_pipe__Delivery_person_Age  \\\n",
       "0                0.090174                      -0.453229   \n",
       "1               -1.943181                      -0.099473   \n",
       "2               -1.958540                       0.077405   \n",
       "3                0.869204                       0.784917   \n",
       "4                0.014167                       0.961795   \n",
       "\n",
       "   num_pipe__Delivery_person_Ratings  num_pipe__Time_Order_picked  \\\n",
       "0                           0.855546                     0.986695   \n",
       "1                           1.180473                     1.220803   \n",
       "2                          -0.119237                    -1.822603   \n",
       "3                           0.855546                     0.284370   \n",
       "4                           0.530618                     0.986695   \n",
       "\n",
       "   num_pipe__Distance  cat_pipe__Weather_conditions  \\\n",
       "0            0.489118                     -0.258872   \n",
       "1            1.912910                     -0.258872   \n",
       "2           -1.219380                      1.212181   \n",
       "3            0.774445                      1.212181   \n",
       "4            0.774379                     -0.258872   \n",
       "\n",
       "   cat_pipe__Road_traffic_density  cat_pipe__Vehicle_condition  \\\n",
       "0                       -1.095892                    -1.225324   \n",
       "1                       -1.095892                    -0.030284   \n",
       "2                       -1.095892                    -0.030284   \n",
       "3                        1.307984                    -1.225324   \n",
       "4                       -1.095892                    -0.030284   \n",
       "\n",
       "   cat_pipe__Type_of_vehicle  cat_pipe__multiple_deliveries  \\\n",
       "0                   0.851462                      -1.330184   \n",
       "1                   0.851462                       0.442337   \n",
       "2                   0.851462                       0.442337   \n",
       "3                   0.851462                       2.214859   \n",
       "4                  -1.174450                       0.442337   \n",
       "\n",
       "   cat_pipe__Festival  cat_pipe__City  \n",
       "0           -0.141143       -1.858024  \n",
       "1           -0.141143       -1.858024  \n",
       "2           -0.141143        0.514611  \n",
       "3           -0.141143        0.514611  \n",
       "4           -0.141143        0.514611  "
      ]
     },
     "execution_count": 15,
     "metadata": {},
     "output_type": "execute_result"
    }
   ],
   "source": [
    "X_train.head()"
   ]
  },
  {
   "cell_type": "code",
   "execution_count": 16,
   "metadata": {},
   "outputs": [
    {
     "data": {
      "text/html": [
       "<div>\n",
       "<style scoped>\n",
       "    .dataframe tbody tr th:only-of-type {\n",
       "        vertical-align: middle;\n",
       "    }\n",
       "\n",
       "    .dataframe tbody tr th {\n",
       "        vertical-align: top;\n",
       "    }\n",
       "\n",
       "    .dataframe thead th {\n",
       "        text-align: right;\n",
       "    }\n",
       "</style>\n",
       "<table border=\"1\" class=\"dataframe\">\n",
       "  <thead>\n",
       "    <tr style=\"text-align: right;\">\n",
       "      <th></th>\n",
       "      <th>id__Delivery_person_ID</th>\n",
       "      <th>num_pipe__Delivery_person_Age</th>\n",
       "      <th>num_pipe__Delivery_person_Ratings</th>\n",
       "      <th>num_pipe__Time_Order_picked</th>\n",
       "      <th>num_pipe__Distance</th>\n",
       "      <th>cat_pipe__Weather_conditions</th>\n",
       "      <th>cat_pipe__Road_traffic_density</th>\n",
       "      <th>cat_pipe__Vehicle_condition</th>\n",
       "      <th>cat_pipe__Type_of_vehicle</th>\n",
       "      <th>cat_pipe__multiple_deliveries</th>\n",
       "      <th>cat_pipe__Festival</th>\n",
       "      <th>cat_pipe__City</th>\n",
       "    </tr>\n",
       "  </thead>\n",
       "  <tbody>\n",
       "    <tr>\n",
       "      <th>0</th>\n",
       "      <td>-0.616496</td>\n",
       "      <td>-0.983863</td>\n",
       "      <td>0.855546</td>\n",
       "      <td>0.986695</td>\n",
       "      <td>-0.921762</td>\n",
       "      <td>-1.729925</td>\n",
       "      <td>-1.095892</td>\n",
       "      <td>-0.030284</td>\n",
       "      <td>0.851462</td>\n",
       "      <td>0.442337</td>\n",
       "      <td>-0.141143</td>\n",
       "      <td>0.514611</td>\n",
       "    </tr>\n",
       "    <tr>\n",
       "      <th>1</th>\n",
       "      <td>-0.530054</td>\n",
       "      <td>0.254283</td>\n",
       "      <td>0.205690</td>\n",
       "      <td>-2.290819</td>\n",
       "      <td>-1.215479</td>\n",
       "      <td>1.212181</td>\n",
       "      <td>-1.095892</td>\n",
       "      <td>-0.030284</td>\n",
       "      <td>0.851462</td>\n",
       "      <td>0.442337</td>\n",
       "      <td>-0.141143</td>\n",
       "      <td>0.514611</td>\n",
       "    </tr>\n",
       "    <tr>\n",
       "      <th>2</th>\n",
       "      <td>0.393488</td>\n",
       "      <td>-0.099473</td>\n",
       "      <td>0.205690</td>\n",
       "      <td>0.050262</td>\n",
       "      <td>-0.357581</td>\n",
       "      <td>-1.729925</td>\n",
       "      <td>-0.294600</td>\n",
       "      <td>-0.030284</td>\n",
       "      <td>-1.174450</td>\n",
       "      <td>0.442337</td>\n",
       "      <td>-0.141143</td>\n",
       "      <td>-1.858024</td>\n",
       "    </tr>\n",
       "    <tr>\n",
       "      <th>3</th>\n",
       "      <td>0.227571</td>\n",
       "      <td>0.961795</td>\n",
       "      <td>0.205690</td>\n",
       "      <td>-0.886170</td>\n",
       "      <td>-0.668092</td>\n",
       "      <td>-1.729925</td>\n",
       "      <td>0.506692</td>\n",
       "      <td>-0.030284</td>\n",
       "      <td>-1.174450</td>\n",
       "      <td>-1.330184</td>\n",
       "      <td>-0.141143</td>\n",
       "      <td>0.514611</td>\n",
       "    </tr>\n",
       "    <tr>\n",
       "      <th>4</th>\n",
       "      <td>-0.550298</td>\n",
       "      <td>0.077405</td>\n",
       "      <td>-1.094020</td>\n",
       "      <td>-0.183846</td>\n",
       "      <td>0.771638</td>\n",
       "      <td>1.212181</td>\n",
       "      <td>-0.294600</td>\n",
       "      <td>-0.030284</td>\n",
       "      <td>0.851462</td>\n",
       "      <td>0.442337</td>\n",
       "      <td>-0.141143</td>\n",
       "      <td>0.514611</td>\n",
       "    </tr>\n",
       "  </tbody>\n",
       "</table>\n",
       "</div>"
      ],
      "text/plain": [
       "   id__Delivery_person_ID  num_pipe__Delivery_person_Age  \\\n",
       "0               -0.616496                      -0.983863   \n",
       "1               -0.530054                       0.254283   \n",
       "2                0.393488                      -0.099473   \n",
       "3                0.227571                       0.961795   \n",
       "4               -0.550298                       0.077405   \n",
       "\n",
       "   num_pipe__Delivery_person_Ratings  num_pipe__Time_Order_picked  \\\n",
       "0                           0.855546                     0.986695   \n",
       "1                           0.205690                    -2.290819   \n",
       "2                           0.205690                     0.050262   \n",
       "3                           0.205690                    -0.886170   \n",
       "4                          -1.094020                    -0.183846   \n",
       "\n",
       "   num_pipe__Distance  cat_pipe__Weather_conditions  \\\n",
       "0           -0.921762                     -1.729925   \n",
       "1           -1.215479                      1.212181   \n",
       "2           -0.357581                     -1.729925   \n",
       "3           -0.668092                     -1.729925   \n",
       "4            0.771638                      1.212181   \n",
       "\n",
       "   cat_pipe__Road_traffic_density  cat_pipe__Vehicle_condition  \\\n",
       "0                       -1.095892                    -0.030284   \n",
       "1                       -1.095892                    -0.030284   \n",
       "2                       -0.294600                    -0.030284   \n",
       "3                        0.506692                    -0.030284   \n",
       "4                       -0.294600                    -0.030284   \n",
       "\n",
       "   cat_pipe__Type_of_vehicle  cat_pipe__multiple_deliveries  \\\n",
       "0                   0.851462                       0.442337   \n",
       "1                   0.851462                       0.442337   \n",
       "2                  -1.174450                       0.442337   \n",
       "3                  -1.174450                      -1.330184   \n",
       "4                   0.851462                       0.442337   \n",
       "\n",
       "   cat_pipe__Festival  cat_pipe__City  \n",
       "0           -0.141143        0.514611  \n",
       "1           -0.141143        0.514611  \n",
       "2           -0.141143       -1.858024  \n",
       "3           -0.141143        0.514611  \n",
       "4           -0.141143        0.514611  "
      ]
     },
     "execution_count": 16,
     "metadata": {},
     "output_type": "execute_result"
    }
   ],
   "source": [
    "X_test.head()"
   ]
  },
  {
   "cell_type": "code",
   "execution_count": 17,
   "metadata": {},
   "outputs": [],
   "source": [
    "def model_evaluation(true, predicted):\n",
    "    mse = mean_squared_error(true, predicted)\n",
    "    rmse = np.sqrt(mse)\n",
    "    mae = mean_absolute_error(true, predicted)\n",
    "    r2_squared = r2_score(true, predicted)\n",
    "    return rmse, mae, r2_squared"
   ]
  },
  {
   "cell_type": "code",
   "execution_count": 18,
   "metadata": {},
   "outputs": [],
   "source": [
    "import seaborn as sns\n",
    "import matplotlib.pyplot as plt"
   ]
  },
  {
   "cell_type": "code",
   "execution_count": 19,
   "metadata": {},
   "outputs": [],
   "source": [
    "import warnings\n",
    "warnings.filterwarnings('ignore')"
   ]
  },
  {
   "cell_type": "code",
   "execution_count": 24,
   "metadata": {},
   "outputs": [
    {
     "name": "stdout",
     "output_type": "stream",
     "text": [
      "Model Name: LinearRegression\n",
      "Model Training Performance\n",
      "RMSE: 6.185721769244484\n",
      "MAE: 4.8935239543332045\n",
      "R2 score: 56.706894793464755\n"
     ]
    },
    {
     "data": {
      "image/png": "[encoded data removed]",
      "text/plain": [
       "<Figure size 500x500 with 1 Axes>"
      ]
     },
     "metadata": {},
     "output_type": "display_data"
    },
    {
     "name": "stdout",
     "output_type": "stream",
     "text": [
      "==================================================================================================== \n",
      "\n",
      "Model Name: Lasso\n",
      "Model Training Performance\n",
      "RMSE: 6.68093988687665\n",
      "MAE: 5.31497837414664\n",
      "R2 score: 49.49747392786791\n"
     ]
    },
    {
     "data": {
      "image/png": "[encoded data removed]",
      "text/plain": [
       "<Figure size 500x500 with 1 Axes>"
      ]
     },
     "metadata": {},
     "output_type": "display_data"
    },
    {
     "name": "stdout",
     "output_type": "stream",
     "text": [
      "==================================================================================================== \n",
      "\n",
      "Model Name: Ridge\n",
      "Model Training Performance\n",
      "RMSE: 6.185722519195161\n",
      "MAE: 4.8935250145501055\n",
      "R2 score: 56.70688429583919\n"
     ]
    },
    {
     "data": {
      "image/png": "[encoded data removed]",
      "text/plain": [
       "<Figure size 500x500 with 1 Axes>"
      ]
     },
     "metadata": {},
     "output_type": "display_data"
    },
    {
     "name": "stdout",
     "output_type": "stream",
     "text": [
      "==================================================================================================== \n",
      "\n",
      "Model Name: ElasticNet\n",
      "Model Training Performance\n",
      "RMSE: 6.750876608536838\n",
      "MAE: 5.3922510649219\n",
      "R2 score: 48.434609202775\n"
     ]
    },
    {
     "data": {
      "image/png": "[encoded data removed]",
      "text/plain": [
       "<Figure size 500x500 with 1 Axes>"
      ]
     },
     "metadata": {},
     "output_type": "display_data"
    },
    {
     "name": "stdout",
     "output_type": "stream",
     "text": [
      "==================================================================================================== \n",
      "\n"
     ]
    }
   ],
   "source": [
    "# Training multiple models\n",
    "\n",
    "models = {\n",
    "    'LinearRegression' : LinearRegression(),\n",
    "    'Lasso' : Lasso(),\n",
    "    'Ridge' : Ridge(),\n",
    "    'ElasticNet' : ElasticNet()\n",
    "}\n",
    "\n",
    "for i in models:\n",
    "    model = models[i]\n",
    "    model.fit(X_train, y_train)\n",
    "\n",
    "    # predictions\n",
    "    y_pred = model.predict(X_test)\n",
    "\n",
    "    rmse, mae, r2_squared = model_evaluation(y_test, y_pred)\n",
    "\n",
    "    print(f'Model Name: {i}')\n",
    "    print('Model Training Performance')\n",
    "    print(f\"RMSE: {rmse}\")\n",
    "    print(f\"MAE: {mae}\")\n",
    "    print(f\"R2 score: {r2_squared*100}\")\n",
    "\n",
    "    res=y_test-y_pred\n",
    "\n",
    "    sns.displot(res, color='cornflowerblue')\n",
    "    plt.xlabel('Residual')\n",
    "    plt.title(i, loc='left', color='maroon')\n",
    "    plt.show()\n",
    "    \n",
    "    print('='*100,'\\n')"
   ]
  },
  {
   "cell_type": "code",
   "execution_count": 25,
   "metadata": {},
   "outputs": [],
   "source": [
    "# The resuduals of the models are distributed normally, which indicates a completed model"
   ]
  },
  {
   "cell_type": "code",
   "execution_count": 21,
   "metadata": {},
   "outputs": [
    {
     "data": {
      "text/html": [
       "<style>#sk-container-id-1 {color: black;}#sk-container-id-1 pre{padding: 0;}#sk-container-id-1 div.sk-toggleable {background-color: white;}#sk-container-id-1 label.sk-toggleable__label {cursor: pointer;display: block;width: 100%;margin-bottom: 0;padding: 0.3em;box-sizing: border-box;text-align: center;}#sk-container-id-1 label.sk-toggleable__label-arrow:before {content: \"▸\";float: left;margin-right: 0.25em;color: #696969;}#sk-container-id-1 label.sk-toggleable__label-arrow:hover:before {color: black;}#sk-container-id-1 div.sk-estimator:hover label.sk-toggleable__label-arrow:before {color: black;}#sk-container-id-1 div.sk-toggleable__content {max-height: 0;max-width: 0;overflow: hidden;text-align: left;background-color: #f0f8ff;}#sk-container-id-1 div.sk-toggleable__content pre {margin: 0.2em;color: black;border-radius: 0.25em;background-color: #f0f8ff;}#sk-container-id-1 input.sk-toggleable__control:checked~div.sk-toggleable__content {max-height: 200px;max-width: 100%;overflow: auto;}#sk-container-id-1 input.sk-toggleable__control:checked~label.sk-toggleable__label-arrow:before {content: \"▾\";}#sk-container-id-1 div.sk-estimator input.sk-toggleable__control:checked~label.sk-toggleable__label {background-color: #d4ebff;}#sk-container-id-1 div.sk-label input.sk-toggleable__control:checked~label.sk-toggleable__label {background-color: #d4ebff;}#sk-container-id-1 input.sk-hidden--visually {border: 0;clip: rect(1px 1px 1px 1px);clip: rect(1px, 1px, 1px, 1px);height: 1px;margin: -1px;overflow: hidden;padding: 0;position: absolute;width: 1px;}#sk-container-id-1 div.sk-estimator {font-family: monospace;background-color: #f0f8ff;border: 1px dotted black;border-radius: 0.25em;box-sizing: border-box;margin-bottom: 0.5em;}#sk-container-id-1 div.sk-estimator:hover {background-color: #d4ebff;}#sk-container-id-1 div.sk-parallel-item::after {content: \"\";width: 100%;border-bottom: 1px solid gray;flex-grow: 1;}#sk-container-id-1 div.sk-label:hover label.sk-toggleable__label {background-color: #d4ebff;}#sk-container-id-1 div.sk-serial::before {content: \"\";position: absolute;border-left: 1px solid gray;box-sizing: border-box;top: 0;bottom: 0;left: 50%;z-index: 0;}#sk-container-id-1 div.sk-serial {display: flex;flex-direction: column;align-items: center;background-color: white;padding-right: 0.2em;padding-left: 0.2em;position: relative;}#sk-container-id-1 div.sk-item {position: relative;z-index: 1;}#sk-container-id-1 div.sk-parallel {display: flex;align-items: stretch;justify-content: center;background-color: white;position: relative;}#sk-container-id-1 div.sk-item::before, #sk-container-id-1 div.sk-parallel-item::before {content: \"\";position: absolute;border-left: 1px solid gray;box-sizing: border-box;top: 0;bottom: 0;left: 50%;z-index: -1;}#sk-container-id-1 div.sk-parallel-item {display: flex;flex-direction: column;z-index: 1;position: relative;background-color: white;}#sk-container-id-1 div.sk-parallel-item:first-child::after {align-self: flex-end;width: 50%;}#sk-container-id-1 div.sk-parallel-item:last-child::after {align-self: flex-start;width: 50%;}#sk-container-id-1 div.sk-parallel-item:only-child::after {width: 0;}#sk-container-id-1 div.sk-dashed-wrapped {border: 1px dashed gray;margin: 0 0.4em 0.5em 0.4em;box-sizing: border-box;padding-bottom: 0.4em;background-color: white;}#sk-container-id-1 div.sk-label label {font-family: monospace;font-weight: bold;display: inline-block;line-height: 1.2em;}#sk-container-id-1 div.sk-label-container {text-align: center;}#sk-container-id-1 div.sk-container {/* jupyter's `normalize.less` sets `[hidden] { display: none; }` but bootstrap.min.css set `[hidden] { display: none !important; }` so we also need the `!important` here to be able to override the default hidden behavior on the sphinx rendered scikit-learn.org. See: https://github.com/scikit-learn/scikit-learn/issues/21755 */display: inline-block !important;position: relative;}#sk-container-id-1 div.sk-text-repr-fallback {display: none;}</style><div id=\"sk-container-id-1\" class=\"sk-top-container\"><div class=\"sk-text-repr-fallback\"><pre>LinearRegression()</pre><b>In a Jupyter environment, please rerun this cell to show the HTML representation or trust the notebook. <br />On GitHub, the HTML representation is unable to render, please try loading this page with nbviewer.org.</b></div><div class=\"sk-container\" hidden><div class=\"sk-item\"><div class=\"sk-estimator sk-toggleable\"><input class=\"sk-toggleable__control sk-hidden--visually\" id=\"sk-estimator-id-1\" type=\"checkbox\" checked><label for=\"sk-estimator-id-1\" class=\"sk-toggleable__label sk-toggleable__label-arrow\">LinearRegression</label><div class=\"sk-toggleable__content\"><pre>LinearRegression()</pre></div></div></div></div></div>"
      ],
      "text/plain": [
       "LinearRegression()"
      ]
     },
     "execution_count": 21,
     "metadata": {},
     "output_type": "execute_result"
    }
   ],
   "source": [
    "# Ordinary linear regression has the best r2 score\n",
    "regression = LinearRegression()\n",
    "regression.fit(X_train, y_train)"
   ]
  },
  {
   "cell_type": "code",
   "execution_count": 22,
   "metadata": {},
   "outputs": [
    {
     "name": "stdout",
     "output_type": "stream",
     "text": [
      "id__Delivery_person_ID : 0.017028783573630885\n",
      "num_pipe__Delivery_person_Age : 2.2150534075583193\n",
      "num_pipe__Delivery_person_Ratings : -2.2330884930792347\n",
      "num_pipe__Time_Order_picked : -0.49782625362788274\n",
      "num_pipe__Distance : 2.018834374360799\n",
      "cat_pipe__Weather_conditions : 2.0526217049282334\n",
      "cat_pipe__Road_traffic_density : 2.8679384613771575\n",
      "cat_pipe__Vehicle_condition : -1.4890174793885675\n",
      "cat_pipe__Type_of_vehicle : 0.28649709001885415\n",
      "cat_pipe__multiple_deliveries : 1.728693994013585\n",
      "cat_pipe__Festival : 1.4181812719127902\n",
      "cat_pipe__City : 0.9606134529950349\n",
      "intercept : 26.289747213063272\n"
     ]
    }
   ],
   "source": [
    "for i,j in zip(regression.feature_names_in_, regression.coef_):\n",
    "    print(f'{i} : {j}')\n",
    "print(f'intercept : {regression.intercept_}')"
   ]
  }
 ],
 "metadata": {
  "kernelspec": {
   "display_name": "py11env",
   "language": "python",
   "name": "python3"
  },
  "language_info": {
   "codemirror_mode": {
    "name": "ipython",
    "version": 3
   },
   "file_extension": ".py",
   "mimetype": "text/x-python",
   "name": "python",
   "nbconvert_exporter": "python",
   "pygments_lexer": "ipython3",
   "version": "3.11.5"
  },
  "orig_nbformat": 4
 },
 "nbformat": 4,
 "nbformat_minor": 2
}
